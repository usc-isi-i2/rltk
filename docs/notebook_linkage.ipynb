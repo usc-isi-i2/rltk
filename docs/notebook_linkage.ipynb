{
 "cells": [
  {
   "cell_type": "markdown",
   "metadata": {},
   "source": [
    "# Record Linkage\n",
    "\n",
    "Here, let me show you how to link the actor names from Princeton University Art Museum (PUAM) to Getty Union List of Artist Names (ULAN)."
   ]
  },
  {
   "cell_type": "code",
   "execution_count": 10,
   "metadata": {
    "collapsed": true
   },
   "outputs": [],
   "source": [
    "# this two lines are just for locating the package.\n",
    "import sys\n",
    "sys.path.append('..')\n",
    "\n",
    "import rltk\n",
    "tk = rltk.init()\n",
    "tk.set_root_path('../examples/puam')"
   ]
  },
  {
   "cell_type": "markdown",
   "metadata": {},
   "source": [
    "## Prepare data\n",
    "\n",
    "First and the most important step is preparing data. Besides of the two candidate datasets (format in json_line/csv/text), you need manually mark some postive and negative pairs of these two datasets. Here, [labeled_puam.jsonl](../examples/puam/labeled_100.jsonl) is a 100 lines labeled paris.\n",
    "\n",
    "## Get file iterator of datasets\n",
    "Candidate sets should be streamed as FileIterator in RLTK."
   ]
  },
  {
   "cell_type": "code",
   "execution_count": 11,
   "metadata": {
    "collapsed": true
   },
   "outputs": [],
   "source": [
    "iter1 = tk.get_file_iterator('../../datasets/ulan.json', type='json_line', id_path='uri[*].value')\n",
    "iter2 = tk.get_file_iterator('../../datasets/puam.json', type='json_line', id_path='uri[*].value')"
   ]
  },
  {
   "cell_type": "markdown",
   "metadata": {},
   "source": [
    "## Train Classifier\n",
    "Then, load a feature configuration file for generating feature vector, e.g., [feature_config.json](../examples/puam/feature_config.json)."
   ]
  },
  {
   "cell_type": "code",
   "execution_count": 12,
   "metadata": {
    "collapsed": true
   },
   "outputs": [],
   "source": [
    "tk.load_feature_configuration('feature_config', 'feature_config.json')"
   ]
  },
  {
   "cell_type": "markdown",
   "metadata": {},
   "source": [
    "Use labeled data and feature configurations to compute labeled features:"
   ]
  },
  {
   "cell_type": "code",
   "execution_count": 13,
   "metadata": {
    "collapsed": true
   },
   "outputs": [],
   "source": [
    "tk.compute_labeled_features(iter1=iter1.copy(), iter2=iter2.copy(),\n",
    "                    label_path='labeled_100.jsonl',\n",
    "                    feature_config_name='feature_config',\n",
    "                    feature_output_path='labeled_feature.jsonl')"
   ]
  },
  {
   "cell_type": "markdown",
   "metadata": {},
   "source": [
    "Once you have labeled features, you can use it to train a classifier."
   ]
  },
  {
   "cell_type": "code",
   "execution_count": 14,
   "metadata": {
    "collapsed": true
   },
   "outputs": [],
   "source": [
    "model = tk.train_model(training_path='labeled_feature.jsonl', classifier='svm')"
   ]
  },
  {
   "cell_type": "markdown",
   "metadata": {},
   "source": [
    "You can dump and load model for further using."
   ]
  },
  {
   "cell_type": "code",
   "execution_count": 15,
   "metadata": {
    "collapsed": true
   },
   "outputs": [],
   "source": [
    "tk.dump_model(model, 'model.pkl')\n",
    "model = tk.load_model('model.pkl')"
   ]
  },
  {
   "cell_type": "markdown",
   "metadata": {},
   "source": [
    "## Blocking\n",
    "Sometimes the candidate datesets are huge, in order to decrease the comparison times, blocks need to be created (this step may takes a lone time and creates a large file)."
   ]
  },
  {
   "cell_type": "code",
   "execution_count": 16,
   "metadata": {
    "collapsed": true
   },
   "outputs": [],
   "source": [
    "tk.q_gram_blocking(\n",
    "    iter1=iter1, q1=[3], value_path1=['name[*].value'],\n",
    "    iter2=iter2, q2=[3], value_path2=['name[*].value'],\n",
    "    output_file_path='blocking.jsonl')"
   ]
  },
  {
   "cell_type": "markdown",
   "metadata": {},
   "source": [
    "For testing purpose, I pick out the first 100 lines of object from the output file `blocking.jsonl` and named it to [blocking_100.jsonl](../examples/puam/blocking_100.jsonl).\n",
    "\n",
    "## Compute vectors and make prediction\n",
    "\n",
    "After blocking, compute vectors on these blocks. Then use previous model to predict these pairs."
   ]
  },
  {
   "cell_type": "code",
   "execution_count": 17,
   "metadata": {},
   "outputs": [],
   "source": [
    "tk.compute_features(iter1=iter1.copy(), iter2=iter2.copy(),\n",
    "                    feature_config_name='feature_config',\n",
    "                    feature_output_path='feature.jsonl',\n",
    "                    blocking_path='blocking_100.jsonl')"
   ]
  },
  {
   "cell_type": "code",
   "execution_count": 18,
   "metadata": {},
   "outputs": [],
   "source": [
    "tk.predict(model, feature_file='feature.jsonl', predict_output_file='predicted.jsonl')"
   ]
  },
  {
   "cell_type": "markdown",
   "metadata": {},
   "source": [
    "After prediction, you get the the predicted result of linkage in [predicted.jsonl](../examples/puam/predicted.jsonl). It includes all the possible pairs that indicated from blocking file. You need to do further filtering to pick out the most possible pairs."
   ]
  },
  {
   "cell_type": "code",
   "execution_count": 19,
   "metadata": {
    "collapsed": true
   },
   "outputs": [],
   "source": [
    "tk.filter('predicted.jsonl', 'filtered.jsonl', unique_id1=False)"
   ]
  },
  {
   "cell_type": "markdown",
   "metadata": {},
   "source": [
    "For a particular id, `filter()` will defaultly pick out another id which is most possible to form a pair with it, `unique_id1` is set to `False` because id2 (PUAM id) is a unique identifier here. Finally, your record linkage result is in [filtered.jsonl](../examples/puam/filtered.jsonl)."
   ]
  }
 ],
 "metadata": {
  "kernelspec": {
   "display_name": "Python 2",
   "language": "python",
   "name": "python2"
  },
  "language_info": {
   "codemirror_mode": {
    "name": "ipython",
    "version": 2
   },
   "file_extension": ".py",
   "mimetype": "text/x-python",
   "name": "python",
   "nbconvert_exporter": "python",
   "pygments_lexer": "ipython2",
   "version": "2.7.10"
  }
 },
 "nbformat": 4,
 "nbformat_minor": 1
}
